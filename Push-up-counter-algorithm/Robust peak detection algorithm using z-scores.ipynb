{
 "cells": [
  {
   "cell_type": "markdown",
   "metadata": {},
   "source": [
    "# Robust peak detection algorithm using z-scores\n",
    "\n",
    "An Algorithm which converts 2D-screen-coordinates from the poseNetModel(Copied from Debugger) to a Number of push ups done"
   ]
  },
  {
   "cell_type": "code",
   "execution_count": 17,
   "metadata": {},
   "outputs": [],
   "source": [
    "test =\"\"\"0 = {Float@10373} 180.5\n",
    "1 = {Float@10374} 180.0\n",
    "2 = {Float@10375} 176.5\n",
    "3 = {Float@10376} 175.5\n",
    "4 = {Float@10377} 184.0\n",
    "5 = {Float@10378} 174.0\n",
    "6 = {Float@10379} 166.5\n",
    "7 = {Float@10380} 165.0\n",
    "8 = {Float@10381} 164.5\n",
    "9 = {Float@10382} 165.0\n",
    "10 = {Float@10383} 165.5\n",
    "11 = {Float@10384} 163.5\n",
    "12 = {Float@10385} 164.5\n",
    "13 = {Float@10386} 163.5\n",
    "14 = {Float@10387} 153.0\n",
    "15 = {Float@10388} 125.0\n",
    "16 = {Float@10389} 110.5\n",
    "17 = {Float@10390} 94.5\n",
    "18 = {Float@10391} 76.5\n",
    "19 = {Float@10392} 54.0\n",
    "20 = {Float@10393} 45.5\n",
    "21 = {Float@10394} 42.5\n",
    "22 = {Float@10395} 42.5\n",
    "23 = {Float@10396} 43.0\n",
    "24 = {Float@10397} 43.0\n",
    "25 = {Float@10398} 43.5\n",
    "26 = {Float@10399} 48.5\n",
    "27 = {Float@10400} 65.0\n",
    "28 = {Float@10401} 79.0\n",
    "29 = {Float@10402} 97.5\n",
    "30 = {Float@10403} 122.5\n",
    "31 = {Float@10404} 135.0\n",
    "32 = {Float@10405} 143.0\n",
    "33 = {Float@10406} 157.0\n",
    "34 = {Float@10407} 167.0\n",
    "35 = {Float@10408} 162.0\n",
    "36 = {Float@10409} 162.5\n",
    "37 = {Float@10410} 164.5\n",
    "38 = {Float@10411} 163.5\n",
    "39 = {Float@10412} 143.5\n",
    "40 = {Float@10413} 121.0\n",
    "41 = {Float@10414} 99.5\n",
    "42 = {Float@10415} 74.5\n",
    "43 = {Float@10416} 50.5\n",
    "44 = {Float@10417} 43.0\n",
    "45 = {Float@10418} 41.0\n",
    "46 = {Float@10419} 42.0\n",
    "47 = {Float@10420} 43.0\n",
    "48 = {Float@10421} 46.0\n",
    "49 = {Float@10422} 53.0\n",
    "50 = {Float@10423} 61.0\n",
    "51 = {Float@10424} 79.0\n",
    "52 = {Float@10425} 98.0\n",
    "53 = {Float@10426} 114.0\n",
    "54 = {Float@10427} 128.5\n",
    "55 = {Float@10428} 136.0\n",
    "56 = {Float@10429} 151.5\n",
    "57 = {Float@10430} 161.5\n",
    "58 = {Float@10431} 166.5\n",
    "59 = {Float@10432} 163.5\n",
    "60 = {Float@10433} 160.0\n",
    "61 = {Float@10434} 133.0\n",
    "62 = {Float@10435} 113.5\n",
    "63 = {Float@10436} 94.5\n",
    "64 = {Float@10437} 75.0\n",
    "65 = {Float@10438} 63.5\n",
    "66 = {Float@10439} 52.0\n",
    "67 = {Float@10440} 44.5\n",
    "68 = {Float@10441} 38.5\n",
    "69 = {Float@10442} 31.5\n",
    "70 = {Float@10443} 30.5\n",
    "71 = {Float@10444} 31.0\n",
    "72 = {Float@10445} 34.0\n",
    "73 = {Float@10446} 33.0\n",
    "74 = {Float@10447} 33.0\n",
    "75 = {Float@10448} 31.0\n",
    "76 = {Float@10449} 28.5\n",
    "77 = {Float@10450} 10.0\n",
    "78 = {Float@10451} -6.0\n",
    "79 = {Float@10452} -4.0\n",
    "80 = {Float@10453} -13.0\n",
    "81 = {Float@10454} -9.0\n",
    "82 = {Float@10455} -16.0\n",
    "83 = {Float@10456} -11.5\n",
    "84 = {Float@10457} -16.5\n",
    "85 = {Float@10458} -10.5\n",
    "86 = {Float@10459} -11.0\n",
    "87 = {Float@10460} -16.0\n",
    "88 = {Float@10461} -15.5\n",
    "89 = {Float@10462} -10.5\n",
    "90 = {Float@10463} -10.0\n",
    "91 = {Float@10464} -13.5\n",
    "92 = {Float@10465} -13.5\n",
    "93 = {Float@10466} -14.5\n",
    "94 = {Float@10467} -16.0\n",
    "95 = {Float@10468} -16.0\n",
    "96 = {Float@10469} -16.5\n",
    "\"\"\""
   ]
  },
  {
   "cell_type": "code",
   "execution_count": 18,
   "metadata": {},
   "outputs": [],
   "source": [
    "linesplitted = test.split(\"\\n\")"
   ]
  },
  {
   "cell_type": "code",
   "execution_count": 43,
   "metadata": {},
   "outputs": [],
   "source": [
    "linesplitted_clean = []\n",
    "\n",
    "for line in linesplitted:\n",
    "    if line != '':\n",
    "        linesplitted_clean.append(float(line.split(\"} \")[1])* (-1))"
   ]
  },
  {
   "cell_type": "code",
   "execution_count": 44,
   "metadata": {},
   "outputs": [
    {
     "data": {
      "image/png": "[encoded data removed]",
      "text/plain": [
       "<Figure size 432x288 with 1 Axes>"
      ]
     },
     "metadata": {
      "needs_background": "light"
     },
     "output_type": "display_data"
    }
   ],
   "source": [
    "import numpy as np\n",
    "import matplotlib.pyplot as plt\n",
    "\n",
    "plt.plot(linesplitted_clean) # plotting by columns\n",
    "plt.show()"
   ]
  },
  {
   "cell_type": "code",
   "execution_count": 27,
   "metadata": {},
   "outputs": [],
   "source": [
    "import numpy as np\n",
    "\n",
    "class real_time_peak_detection():\n",
    "    def __init__(self, array, lag, threshold, influence):\n",
    "        self.y = list(array)\n",
    "        self.length = len(self.y)\n",
    "        self.lag = lag\n",
    "        self.threshold = threshold\n",
    "        self.influence = influence\n",
    "        self.signals = [0] * len(self.y)\n",
    "        self.filteredY = np.array(self.y).tolist()\n",
    "        self.avgFilter = [0] * len(self.y)\n",
    "        self.stdFilter = [0] * len(self.y)\n",
    "        self.avgFilter[self.lag - 1] = np.mean(self.y[0:self.lag]).tolist()\n",
    "        self.stdFilter[self.lag - 1] = np.std(self.y[0:self.lag]).tolist()\n",
    "\n",
    "    def thresholding_algo(self, new_value):\n",
    "        self.y.append(new_value)\n",
    "        i = len(self.y) - 1\n",
    "        self.length = len(self.y)\n",
    "        if i < self.lag:\n",
    "            return 0\n",
    "        elif i == self.lag:\n",
    "            self.signals = [0] * len(self.y)\n",
    "            self.filteredY = np.array(self.y).tolist()\n",
    "            self.avgFilter = [0] * len(self.y)\n",
    "            self.stdFilter = [0] * len(self.y)\n",
    "            self.avgFilter[self.lag - 1] = np.mean(self.y[0:self.lag]).tolist()\n",
    "            self.stdFilter[self.lag - 1] = np.std(self.y[0:self.lag]).tolist()\n",
    "            return 0\n",
    "\n",
    "        self.signals += [0]\n",
    "        self.filteredY += [0]\n",
    "        self.avgFilter += [0]\n",
    "        self.stdFilter += [0]\n",
    "\n",
    "        if abs(self.y[i] - self.avgFilter[i - 1]) > self.threshold * self.stdFilter[i - 1]:\n",
    "            if self.y[i] > self.avgFilter[i - 1]:\n",
    "                self.signals[i] = 1\n",
    "            else:\n",
    "                self.signals[i] = -1\n",
    "\n",
    "            self.filteredY[i] = self.influence * self.y[i] + (1 - self.influence) * self.filteredY[i - 1]\n",
    "            self.avgFilter[i] = np.mean(self.filteredY[(i - self.lag):i])\n",
    "            self.stdFilter[i] = np.std(self.filteredY[(i - self.lag):i])\n",
    "        else:\n",
    "            self.signals[i] = 0\n",
    "            self.filteredY[i] = self.y[i]\n",
    "            self.avgFilter[i] = np.mean(self.filteredY[(i - self.lag):i])\n",
    "            self.stdFilter[i] = np.std(self.filteredY[(i - self.lag):i])\n",
    "\n",
    "        return self.signals[i]"
   ]
  },
  {
   "cell_type": "code",
   "execution_count": 40,
   "metadata": {},
   "outputs": [],
   "source": [
    "startarr = [75]*10"
   ]
  },
  {
   "cell_type": "code",
   "execution_count": 56,
   "metadata": {},
   "outputs": [],
   "source": [
    "ripdetection = real_time_peak_detection(startarr, 10, -75, 0.25)"
   ]
  },
  {
   "cell_type": "code",
   "execution_count": 57,
   "metadata": {},
   "outputs": [
    {
     "data": {
      "image/png": "[encoded data removed]",
      "text/plain": [
       "<Figure size 432x288 with 1 Axes>"
      ]
     },
     "metadata": {
      "needs_background": "light"
     },
     "output_type": "display_data"
    }
   ],
   "source": [
    "smoothed_signal = []\n",
    "for value in linesplitted_clean:\n",
    "    smoothed_signal.append(ripdetection.thresholding_algo(value))\n",
    "\n",
    "plt.plot(smoothed_signal) # plotting by columns\n",
    "plt.show()"
   ]
  },
  {
   "cell_type": "code",
   "execution_count": 70,
   "metadata": {},
   "outputs": [],
   "source": [
    "##test smoothed from phone\n",
    "phone_smoothed= \"\"\"0 = {Integer@9049} 0\n",
    "1 = {Integer@9050} -1\n",
    "2 = {Integer@9050} -1\n",
    "3 = {Integer@9050} -1\n",
    "4 = {Integer@9050} -1\n",
    "5 = {Integer@9050} -1\n",
    "6 = {Integer@9050} -1\n",
    "7 = {Integer@9050} -1\n",
    "8 = {Integer@9050} -1\n",
    "9 = {Integer@9050} -1\n",
    "10 = {Integer@9051} 1\n",
    "11 = {Integer@9051} 1\n",
    "12 = {Integer@9051} 1\n",
    "13 = {Integer@9051} 1\n",
    "14 = {Integer@9051} 1\n",
    "15 = {Integer@9051} 1\n",
    "16 = {Integer@9051} 1\n",
    "17 = {Integer@9050} -1\n",
    "18 = {Integer@9050} -1\n",
    "19 = {Integer@9050} -1\n",
    "20 = {Integer@9050} -1\n",
    "21 = {Integer@9050} -1\n",
    "22 = {Integer@9050} -1\n",
    "23 = {Integer@9050} -1\n",
    "24 = {Integer@9050} -1\n",
    "25 = {Integer@9050} -1\n",
    "26 = {Integer@9050} -1\n",
    "27 = {Integer@9050} -1\n",
    "28 = {Integer@9051} 1\n",
    "29 = {Integer@9051} 1\n",
    "30 = {Integer@9051} 1\n",
    "31 = {Integer@9051} 1\n",
    "32 = {Integer@9051} 1\n",
    "33 = {Integer@9051} 1\n",
    "34 = {Integer@9051} 1\n",
    "35 = {Integer@9051} 1\n",
    "36 = {Integer@9051} 1\n",
    "37 = {Integer@9051} 1\n",
    "38 = {Integer@9051} 1\n",
    "39 = {Integer@9050} -1\n",
    "40 = {Integer@9050} -1\n",
    "41 = {Integer@9050} -1\n",
    "42 = {Integer@9050} -1\n",
    "43 = {Integer@9050} -1\n",
    "44 = {Integer@9050} -1\n",
    "45 = {Integer@9051} 1\n",
    "46 = {Integer@9051} 1\n",
    "47 = {Integer@9051} 1\n",
    "48 = {Integer@9051} 1\n",
    "49 = {Integer@9051} 1\n",
    "50 = {Integer@9051} 1\n",
    "51 = {Integer@9051} 1\n",
    "52 = {Integer@9051} 1\n",
    "53 = {Integer@9051} 1\n",
    "54 = {Integer@9051} 1\n",
    "55 = {Integer@9050} -1\n",
    "56 = {Integer@9050} -1\n",
    "57 = {Integer@9050} -1\n",
    "58 = {Integer@9050} -1\n",
    "59 = {Integer@9050} -1\n",
    "60 = {Integer@9050} -1\n",
    "61 = {Integer@9051} 1\n",
    "62 = {Integer@9051} 1\n",
    "63 = {Integer@9051} 1\n",
    "64 = {Integer@9051} 1\n",
    "65 = {Integer@9051} 1\n",
    "66 = {Integer@9051} 1\n",
    "67 = {Integer@9051} 1\n",
    "68 = {Integer@9051} 1\n",
    "69 = {Integer@9051} 1\n",
    "70 = {Integer@9051} 1\n",
    "71 = {Integer@9051} 1\n",
    "72 = {Integer@9051} 1\n",
    "73 = {Integer@9051} 1\n",
    "74 = {Integer@9051} 1\n",
    "75 = {Integer@9051} 1\n",
    "76 = {Integer@9051} 1\n",
    "77 = {Integer@9051} 1\n",
    "78 = {Integer@9051} 1\n",
    "79 = {Integer@9051} 1\n",
    "80 = {Integer@9051} 1\n",
    "81 = {Integer@9051} 1\n",
    "82 = {Integer@9051} 1\n",
    "83 = {Integer@9051} 1\n",
    "84 = {Integer@9051} 1\n",
    "85 = {Integer@9051} 1\n",
    "86 = {Integer@9051} 1\n",
    "87 = {Integer@9051} 1\"\"\""
   ]
  },
  {
   "cell_type": "code",
   "execution_count": 71,
   "metadata": {},
   "outputs": [],
   "source": [
    "linesplitted = phone_smoothed.split(\"\\n\")"
   ]
  },
  {
   "cell_type": "code",
   "execution_count": 74,
   "metadata": {},
   "outputs": [],
   "source": [
    "linesplitted_clean = []\n",
    "\n",
    "for line in linesplitted:\n",
    "    if line != '':\n",
    "        linesplitted_clean.append(float(line.split(\"} \")[1]))"
   ]
  },
  {
   "cell_type": "code",
   "execution_count": 75,
   "metadata": {},
   "outputs": [
    {
     "data": {
      "image/png": "[encoded data removed]",
      "text/plain": [
       "<Figure size 432x288 with 1 Axes>"
      ]
     },
     "metadata": {
      "needs_background": "light"
     },
     "output_type": "display_data"
    }
   ],
   "source": [
    "plt.plot(linesplitted_clean) # plotting by columns\n",
    "plt.show()"
   ]
  },
  {
   "cell_type": "code",
   "execution_count": null,
   "metadata": {},
   "outputs": [],
   "source": []
  },
  {
   "cell_type": "code",
   "execution_count": 67,
   "metadata": {},
   "outputs": [],
   "source": [
    "test = [0,0,0]"
   ]
  },
  {
   "cell_type": "code",
   "execution_count": 68,
   "metadata": {},
   "outputs": [],
   "source": [
    "test+= [0]"
   ]
  },
  {
   "cell_type": "code",
   "execution_count": 69,
   "metadata": {},
   "outputs": [
    {
     "data": {
      "text/plain": [
       "[0, 0, 0, 0]"
      ]
     },
     "execution_count": 69,
     "metadata": {},
     "output_type": "execute_result"
    }
   ],
   "source": [
    "test"
   ]
  },
  {
   "cell_type": "code",
   "execution_count": null,
   "metadata": {},
   "outputs": [],
   "source": []
  }
 ],
 "metadata": {
  "kernelspec": {
   "display_name": "Python 3",
   "language": "python",
   "name": "python3"
  },
  "language_info": {
   "codemirror_mode": {
    "name": "ipython",
    "version": 3
   },
   "file_extension": ".py",
   "mimetype": "text/x-python",
   "name": "python",
   "nbconvert_exporter": "python",
   "pygments_lexer": "ipython3",
   "version": "3.8.8"
  }
 },
 "nbformat": 4,
 "nbformat_minor": 4
}
